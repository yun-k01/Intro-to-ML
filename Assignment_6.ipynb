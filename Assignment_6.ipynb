{
 "cells": [
  {
   "cell_type": "markdown",
   "metadata": {},
   "source": [
    "# Grade: /100 pts\n",
    "\n",
    "# Assignment 06: Regularization"
   ]
  },
  {
   "cell_type": "code",
   "execution_count": 1,
   "metadata": {},
   "outputs": [],
   "source": [
    "import pandas as pd\n",
    "import numpy as np\n",
    "import matplotlib.pyplot as plt\n",
    "import seaborn as sns\n",
    "import sklearn as sk\n",
    "from sklearn.model_selection import train_test_split, cross_val_score, GridSearchCV\n",
    "from sklearn.linear_model import Ridge\n",
    "from sklearn.pipeline import Pipeline\n",
    "from sklearn.preprocessing import StandardScaler, PolynomialFeatures\n",
    "from sklearn.metrics import mean_squared_error\n",
    "\n",
    "pd.set_option('display.max_columns', 500)\n",
    "\n",
    "%matplotlib inline"
   ]
  },
  {
   "cell_type": "markdown",
   "metadata": {},
   "source": [
    "### Question 1: Preprocessing (5 pts)\n",
    "**Make sure to only use the imports included in the first cell. Any additional imports used will result in 0.** <br>\n",
    "Tasks:\n",
    "* Load the data present in 'footballer_small.csv' using the pandas library and store the loaded data in a dataframe\n",
    "* Drop the variables: 'ID','club','club_logo','flag', 'nationality','photo','potential', 'birth_date'\n",
    "* Dummy code the variables: work_rate_att, work_rate_def, preferred_foot. **Because we are running a regularized model, we do not want to drop the first column**\n",
    "* Get a test data set of size 500 - to make results comparable to solutions, set random_state = 0 <br>"
   ]
  },
  {
   "cell_type": "code",
   "execution_count": 2,
   "metadata": {},
   "outputs": [],
   "source": [
    "df = pd.read_csv('footballer_small.csv')\n",
    "\n",
    "# Drop the columns\n",
    "df = df.drop(columns = ['ID', 'club', 'club_logo', 'birth_date', 'flag', 'nationality', 'photo', 'potential'])\n",
    "\n",
    "df['work_rate_att'] = pd.Categorical(df.work_rate_att)\n",
    "df['work_rate_def'] = pd.Categorical(df.work_rate_def)\n",
    "df['preferred_foot'] = pd.Categorical(df.preferred_foot)\n",
    "\n",
    "df = pd.get_dummies(df, prefix = ['work_rate_att', 'work_rate_def', 'preferred_foot'], columns = ['work_rate_att', 'work_rate_def', 'preferred_foot'])\n",
    "\n",
    "X = df.drop('overall', axis = 'columns')\n",
    "\n",
    "y = df['overall']\n",
    "\n",
    "Xtrain, Xtest, ytrain, ytest = train_test_split(X, y, test_size = 500, random_state = 0)"
   ]
  },
  {
   "cell_type": "markdown",
   "metadata": {},
   "source": [
    "## Question 2: Building the pipeline that preprocesses the data (10 pts)\n",
    "In order to properly build the regression model, the features need to be standardized so that no feature can dominate others in determining the prediction values due to differences in feature scales. Build the pipeline that preprocesses the feature columns of the training data and create a linear regression model. Plot the data before and after the standardization for the stamina feature. <br>\n",
    "In this question, there is no need to overwrite the training set's values. Create a new variable to include the standardized data. The original training data is needed for future exercises. <br>\n",
    "### Question\n",
    "We can observe that the standardized data for stamina has a mean of 0, and follows a normal distribution, while the non-standardized data doesn't have a normal distribution, and a mean of around 70."
   ]
  },
  {
   "cell_type": "code",
   "execution_count": 3,
   "metadata": {},
   "outputs": [
    {
     "data": {
      "text/plain": [
       "LinearRegression()"
      ]
     },
     "execution_count": 3,
     "metadata": {},
     "output_type": "execute_result"
    }
   ],
   "source": [
    "model = sk.linear_model.LinearRegression()\n",
    "\n",
    "# Developing the pipeline\n",
    "pipeline = Pipeline([('scaling', StandardScaler()),\n",
    "                                      ('linreg', model)])\n",
    "\n",
    "scaler = StandardScaler(with_mean = True, with_std=True)\n",
    "X_std = scaler.fit_transform(Xtrain)\n",
    "X_std_df = pd.DataFrame(X_std, columns = Xtrain.columns)\n",
    "\n",
    "# Fitting the model\n",
    "model.fit(X_std_df, ytrain)"
   ]
  },
  {
   "cell_type": "code",
   "execution_count": 4,
   "metadata": {},
   "outputs": [
    {
     "data": {
      "image/png": "[encoded data removed]",
      "text/plain": [
       "<Figure size 640x480 with 1 Axes>"
      ]
     },
     "metadata": {},
     "output_type": "display_data"
    }
   ],
   "source": [
    "# Visualizing the data\n",
    "plt.hist(Xtrain.stamina, label = 'X')\n",
    "plt.hist(X_std_df.stamina, label = 'Standardized X')\n",
    "plt.legend()\n",
    "plt.show() "
   ]
  },
  {
   "cell_type": "markdown",
   "metadata": {},
   "source": [
    "## Question 3: Creating a Complex feature model using 2-nd Polynomial features (10 pts)\n",
    "In this task, the training data consists of the quadratic terms and 2-way interactions of all features except one of standing_tackle, composure, and marking variable. <br> \n",
    "Create <b> four </b> different training sets:\n",
    "* The first training set includes the quadratic terms and 2-way interactions of all the features. \n",
    "* The second/third/fourth training sets include all the features, their quadratic terms, and their 2-way interactions except the standing_tackle/composure/marking features. <br>\n",
    "\n",
    "#### Hint: \n",
    "For the 2nd/3rd and 4th training sets, create the training sets without the aforementioned features and then apply polynomial expansion to the resultant sets. \n",
    "### Questions:\n",
    "* How many linear terms are in each of the new feature set? <br>\n",
    "There are 48 linear terms in the first dataset, and 47 linear terms in models 2-4.\n",
    "* How many squared terms are in each of the new feature set? <br>\n",
    "There are 48 squared terms in the first dataset, and 47 squared terms in models 2-4\n",
    "* How many interaction terms are in each of the new feature set? Give an example of one of the interaction terms.<br>\n",
    "There are 1130 interaction terms. One of these interaction terms is $\\beta x_{standing_tackle} x_{composure}$"
   ]
  },
  {
   "cell_type": "code",
   "execution_count": 5,
   "metadata": {},
   "outputs": [],
   "source": [
    "poly = sk.preprocessing.PolynomialFeatures(degree = 2)\n",
    "\n",
    "# All features\n",
    "x_poly_all = poly.fit_transform(Xtrain)"
   ]
  },
  {
   "cell_type": "code",
   "execution_count": 6,
   "metadata": {},
   "outputs": [],
   "source": [
    "# Excluding standing_tackle\n",
    "Xtrain_poly_tackle = Xtrain.drop('standing_tackle', axis = 'columns').values\n",
    "x_poly_tackle = poly.fit_transform(Xtrain_poly_tackle)\n",
    "\n",
    "# Excluding composure\n",
    "Xtrain_poly_composure = Xtrain.drop('composure', axis = 'columns').values\n",
    "x_poly_composure = poly.fit_transform(Xtrain_poly_composure)\n",
    "\n",
    "# Excluding marking variable\n",
    "Xtrain_poly_mark = Xtrain.drop('marking', axis = 'columns').values\n",
    "x_poly_mark = poly.fit_transform(Xtrain_poly_mark)"
   ]
  },
  {
   "cell_type": "markdown",
   "metadata": {},
   "source": [
    "## Question 4: Evaluating the backward feature search (15 pts)\n",
    "In this question, you have to use the pipeline created in question 2 and apply it to each of the training sets created in question 3. Use 10-fold cross validation to report the validation error on the training set using mean squared error as the metric. <br>\n",
    "Show all the steps of the process and compare and analyze the results using the validation error reported. "
   ]
  },
  {
   "cell_type": "code",
   "execution_count": 15,
   "metadata": {},
   "outputs": [
    {
     "name": "stdout",
     "output_type": "stream",
     "text": [
      "CV loss: 2.974918936860572\n",
      "CV loss: 2.753691907706685\n",
      "CV loss: 2.8095979493446817\n",
      "CV loss: 2.7019949592912123\n"
     ]
    }
   ],
   "source": [
    "train_set = [x_poly_all, x_poly_tackle, x_poly_composure, x_poly_mark]\n",
    "\n",
    "for set in train_set:\n",
    "    cv_scores = cross_val_score(pipeline, set, ytrain, cv = 10, scoring = 'neg_mean_squared_error')\n",
    "    print(f\"CV loss: {-cv_scores.mean()}\")"
   ]
  },
  {
   "cell_type": "markdown",
   "metadata": {},
   "source": [
    "## Question 5: Applying Ridge Regression (10 pts)\n",
    "Build a pipeline that performs scaling and fits the ridge regression on the data that includes the polynomial expansion of all the features. The penalization parameter is set to 0.5. Use the pipeline to report the validation error using mean square error metric. Use 10-fold cross validation. "
   ]
  },
  {
   "cell_type": "code",
   "execution_count": 16,
   "metadata": {},
   "outputs": [
    {
     "name": "stdout",
     "output_type": "stream",
     "text": [
      "CV loss: 1.7146770020416877\n"
     ]
    }
   ],
   "source": [
    "RidgeModel = Pipeline([('scaling', StandardScaler()),\n",
    "                               ('ridge_reg', Ridge(alpha = 0.5))])\n",
    "\n",
    "cv_scores = cross_val_score(RidgeModel, x_poly_all, ytrain, cv = 10, scoring = 'neg_mean_squared_error')\n",
    "print(f\"CV loss: {-cv_scores.mean()}\")"
   ]
  },
  {
   "cell_type": "markdown",
   "metadata": {},
   "source": [
    "## Question 6: Tune the Ridge coefficient for the 2nd-order model   (15 pts)\n",
    "Now use 10-fold CV on the training set to determine a good setting for the regularization coefficient. Perform the search going from $\\lambda = \\exp(-8), \\cdots, \\exp(6)$ in 15 evenly spaced increments on the log scale. Plot the mean squared error as a function of $\\log(\\lambda)$. \n",
    "\n",
    "### Questions: \n",
    "\n",
    "What is the best regularization parameter (actual not approximate)? <br>\n",
    "The best regularization parameter is exp(6), as this produces the lowest MSE.\n",
    "\n",
    "Why does the error increase as $\\lambda \\rightarrow 0?$  Why does the error increase when $\\lambda \\rightarrow \\infty$? Answer in terms of the bias variance trade off. <br>\n",
    "As $\\lambda \\rightarrow 0?$, the error increases, as there is no longer a penalty onto the coefficients, thus making it equivalent to a linear regression. While this minimizes trianing error, it increases in variance. On the contrast, as $\\lambda \\rightarrow \\infty$, it creates too large of a penalty, forcing the coefficients to approach zero, which causes underfitting. Thus, as variance decreases, the bias increases."
   ]
  },
  {
   "cell_type": "code",
   "execution_count": 9,
   "metadata": {},
   "outputs": [
    {
     "name": "stderr",
     "output_type": "stream",
     "text": [
      "/Users/yunkyaw/opt/anaconda3/lib/python3.9/site-packages/sklearn/linear_model/_ridge.py:157: LinAlgWarning: Ill-conditioned matrix (rcond=3.70233e-17): result may not be accurate.\n",
      "  return linalg.solve(A, Xy, sym_pos=True, overwrite_a=True).T\n",
      "/Users/yunkyaw/opt/anaconda3/lib/python3.9/site-packages/sklearn/linear_model/_ridge.py:157: LinAlgWarning: Ill-conditioned matrix (rcond=3.77326e-17): result may not be accurate.\n",
      "  return linalg.solve(A, Xy, sym_pos=True, overwrite_a=True).T\n",
      "/Users/yunkyaw/opt/anaconda3/lib/python3.9/site-packages/sklearn/linear_model/_ridge.py:157: LinAlgWarning: Ill-conditioned matrix (rcond=3.72397e-17): result may not be accurate.\n",
      "  return linalg.solve(A, Xy, sym_pos=True, overwrite_a=True).T\n",
      "/Users/yunkyaw/opt/anaconda3/lib/python3.9/site-packages/sklearn/linear_model/_ridge.py:157: LinAlgWarning: Ill-conditioned matrix (rcond=3.76073e-17): result may not be accurate.\n",
      "  return linalg.solve(A, Xy, sym_pos=True, overwrite_a=True).T\n",
      "/Users/yunkyaw/opt/anaconda3/lib/python3.9/site-packages/sklearn/linear_model/_ridge.py:157: LinAlgWarning: Ill-conditioned matrix (rcond=3.70651e-17): result may not be accurate.\n",
      "  return linalg.solve(A, Xy, sym_pos=True, overwrite_a=True).T\n",
      "/Users/yunkyaw/opt/anaconda3/lib/python3.9/site-packages/sklearn/linear_model/_ridge.py:157: LinAlgWarning: Ill-conditioned matrix (rcond=3.73039e-17): result may not be accurate.\n",
      "  return linalg.solve(A, Xy, sym_pos=True, overwrite_a=True).T\n",
      "/Users/yunkyaw/opt/anaconda3/lib/python3.9/site-packages/sklearn/linear_model/_ridge.py:157: LinAlgWarning: Ill-conditioned matrix (rcond=3.66848e-17): result may not be accurate.\n",
      "  return linalg.solve(A, Xy, sym_pos=True, overwrite_a=True).T\n",
      "/Users/yunkyaw/opt/anaconda3/lib/python3.9/site-packages/sklearn/linear_model/_ridge.py:157: LinAlgWarning: Ill-conditioned matrix (rcond=3.7452e-17): result may not be accurate.\n",
      "  return linalg.solve(A, Xy, sym_pos=True, overwrite_a=True).T\n",
      "/Users/yunkyaw/opt/anaconda3/lib/python3.9/site-packages/sklearn/linear_model/_ridge.py:157: LinAlgWarning: Ill-conditioned matrix (rcond=3.71196e-17): result may not be accurate.\n",
      "  return linalg.solve(A, Xy, sym_pos=True, overwrite_a=True).T\n",
      "/Users/yunkyaw/opt/anaconda3/lib/python3.9/site-packages/sklearn/linear_model/_ridge.py:157: LinAlgWarning: Ill-conditioned matrix (rcond=3.72987e-17): result may not be accurate.\n",
      "  return linalg.solve(A, Xy, sym_pos=True, overwrite_a=True).T\n",
      "/Users/yunkyaw/opt/anaconda3/lib/python3.9/site-packages/sklearn/linear_model/_ridge.py:157: LinAlgWarning: Ill-conditioned matrix (rcond=1.00765e-16): result may not be accurate.\n",
      "  return linalg.solve(A, Xy, sym_pos=True, overwrite_a=True).T\n",
      "/Users/yunkyaw/opt/anaconda3/lib/python3.9/site-packages/sklearn/linear_model/_ridge.py:157: LinAlgWarning: Ill-conditioned matrix (rcond=1.02183e-16): result may not be accurate.\n",
      "  return linalg.solve(A, Xy, sym_pos=True, overwrite_a=True).T\n",
      "/Users/yunkyaw/opt/anaconda3/lib/python3.9/site-packages/sklearn/linear_model/_ridge.py:157: LinAlgWarning: Ill-conditioned matrix (rcond=1.01213e-16): result may not be accurate.\n",
      "  return linalg.solve(A, Xy, sym_pos=True, overwrite_a=True).T\n",
      "/Users/yunkyaw/opt/anaconda3/lib/python3.9/site-packages/sklearn/linear_model/_ridge.py:157: LinAlgWarning: Ill-conditioned matrix (rcond=1.02035e-16): result may not be accurate.\n",
      "  return linalg.solve(A, Xy, sym_pos=True, overwrite_a=True).T\n",
      "/Users/yunkyaw/opt/anaconda3/lib/python3.9/site-packages/sklearn/linear_model/_ridge.py:157: LinAlgWarning: Ill-conditioned matrix (rcond=1.00578e-16): result may not be accurate.\n",
      "  return linalg.solve(A, Xy, sym_pos=True, overwrite_a=True).T\n",
      "/Users/yunkyaw/opt/anaconda3/lib/python3.9/site-packages/sklearn/linear_model/_ridge.py:157: LinAlgWarning: Ill-conditioned matrix (rcond=1.01111e-16): result may not be accurate.\n",
      "  return linalg.solve(A, Xy, sym_pos=True, overwrite_a=True).T\n",
      "/Users/yunkyaw/opt/anaconda3/lib/python3.9/site-packages/sklearn/linear_model/_ridge.py:157: LinAlgWarning: Ill-conditioned matrix (rcond=9.95659e-17): result may not be accurate.\n",
      "  return linalg.solve(A, Xy, sym_pos=True, overwrite_a=True).T\n",
      "/Users/yunkyaw/opt/anaconda3/lib/python3.9/site-packages/sklearn/linear_model/_ridge.py:157: LinAlgWarning: Ill-conditioned matrix (rcond=1.01446e-16): result may not be accurate.\n",
      "  return linalg.solve(A, Xy, sym_pos=True, overwrite_a=True).T\n",
      "/Users/yunkyaw/opt/anaconda3/lib/python3.9/site-packages/sklearn/linear_model/_ridge.py:157: LinAlgWarning: Ill-conditioned matrix (rcond=1.00983e-16): result may not be accurate.\n",
      "  return linalg.solve(A, Xy, sym_pos=True, overwrite_a=True).T\n",
      "/Users/yunkyaw/opt/anaconda3/lib/python3.9/site-packages/sklearn/linear_model/_ridge.py:157: LinAlgWarning: Ill-conditioned matrix (rcond=1.01088e-16): result may not be accurate.\n",
      "  return linalg.solve(A, Xy, sym_pos=True, overwrite_a=True).T\n"
     ]
    },
    {
     "data": {
      "image/png": "[encoded data removed]",
      "text/plain": [
       "<Figure size 640x480 with 1 Axes>"
      ]
     },
     "metadata": {},
     "output_type": "display_data"
    }
   ],
   "source": [
    "lam = np.exp(np.linspace(-8,6,15))\n",
    "\n",
    "mse = np.zeros(15)\n",
    "\n",
    "for i in range(lam.size):\n",
    "    \n",
    "    cv_scores = cross_val_score(Ridge(alpha = lam[i]), x_poly_all, ytrain, cv = 10, scoring='neg_mean_squared_error')\n",
    "\n",
    "    mse[i] = -cv_scores.mean() \n",
    "\n",
    "plt.scatter(np.log(lam), mse)\n",
    "plt.show()"
   ]
  },
  {
   "cell_type": "markdown",
   "metadata": {},
   "source": [
    "### Question 7: Test error  (10 pts)\n",
    "Now test how the ridge model, fitted to the whole training set, performs on the test data set. \n",
    "\n",
    "\n",
    "Report the following:\n",
    "\n",
    "* The mean squared error on the test data - along with the 95% confidence interval, determined with the central limit theorem. \n",
    "* The proportion of the variance explained by your model - along wth a 95% confidence interval."
   ]
  },
  {
   "cell_type": "code",
   "execution_count": 10,
   "metadata": {},
   "outputs": [
    {
     "name": "stdout",
     "output_type": "stream",
     "text": [
      "My confidence interval is between 0.021458431352540688 and 3.901230939256674\n",
      "My R2 is 0.949922116426236\n"
     ]
    }
   ],
   "source": [
    "ridge = Ridge(alpha = np.exp(6), fit_intercept = True)\n",
    "\n",
    "ridge.fit(x_poly_all, ytrain)\n",
    "\n",
    "x_test_poly = poly.fit_transform(Xtest.values)\n",
    "\n",
    "ypred = ridge.predict(x_test_poly)\n",
    "\n",
    "mse = mean_squared_error(ytest, ypred)\n",
    "\n",
    "abs_error = np.abs(ytest - ypred)\n",
    "\n",
    "confidence_int = (np.quantile(abs_error, 0.025), np.quantile(abs_error, 0.975))\n",
    "\n",
    "print('My confidence interval is between', confidence_int[0], 'and', confidence_int[1])\n",
    "\n",
    "r2 = sk.metrics.r2_score(ytest, ypred)\n",
    "\n",
    "print('My R2 is', r2)"
   ]
  },
  {
   "cell_type": "markdown",
   "metadata": {},
   "source": [
    "## Question 8: Analyzing Ridge Coefficients (15 pts)\n",
    "In this question, you are first required to extract all the coefficients of the standing tackle, composure and marking features from the best model of question 7. After that, calculate the mean of the coefficients of the aforementioned features and analyze the results. Based on these observations, draw conclusions about the results in question 4. \n",
    "\n",
    "Here, we find the mean of the coefficients is roughly 0.01269, this suggests that these coefficients do not significantly impact the model. Considering we find a lower cv in models 2-4 (in question 4), this concurs with this, as it suggests that removing these coefficients is more beneficial to the model."
   ]
  },
  {
   "cell_type": "code",
   "execution_count": 17,
   "metadata": {},
   "outputs": [
    {
     "name": "stdout",
     "output_type": "stream",
     "text": [
      "38    0.007789\n",
      "39    0.011361\n",
      "40    0.018923\n",
      "Name: Coefficient, dtype: float64\n",
      "0.012690936419613311\n"
     ]
    }
   ],
   "source": [
    "feat_names = poly.get_feature_names_out(Xtrain.columns)\n",
    "feat_coef = ridge.coef_\n",
    "\n",
    "coef_df = pd.DataFrame({'Feature': feat_names, 'Coefficient': feat_coef})\n",
    "\n",
    "select_feat = [\"standing_tackle\", \"composure\", \"marking\"]\n",
    "\n",
    "select_coef = coef_df[coef_df['Feature'].isin(select_feat)]['Coefficient']\n",
    "print(select_coef)\n",
    "\n",
    "mean_coef = select_coef.mean()\n",
    "\n",
    "print(mean_coef)"
   ]
  },
  {
   "cell_type": "markdown",
   "metadata": {},
   "source": [
    "## Question 9: Lasso Regression (10 pts)\n",
    "Let us assume that you are building a linear regression model using only three features: standing tackle, marking, and composure to predict a player's overall rating. Based on the results of question 8, what do you think will be the features' coefficients while applying the lasso regression optimization? Answer in no more than 5 sentences.\n",
    "\n",
    "Upon applying the lasso regression, we would expect to find that the feature's coefficients are relatively small, with standing_tackle having the lowest coefficient, and marking having the largest."
   ]
  },
  {
   "cell_type": "code",
   "execution_count": 12,
   "metadata": {},
   "outputs": [
    {
     "data": {
      "text/plain": [
       "array([-0.0484303 ,  0.3589039 ,  0.03904743])"
      ]
     },
     "execution_count": 12,
     "metadata": {},
     "output_type": "execute_result"
    }
   ],
   "source": [
    "Xlas_train = Xtrain[[\"standing_tackle\", \"composure\", \"marking\"]]\n",
    "Xlas_test = Xtest[[\"standing_tackle\", \"composure\", \"marking\"]]\n",
    "\n",
    "las = sk.linear_model.Lasso(alpha = 0.05, fit_intercept = True)\n",
    "las.fit(Xlas_train, ytrain)\n",
    "\n",
    "las.coef_"
   ]
  },
  {
   "cell_type": "markdown",
   "metadata": {},
   "source": [
    "## Note: \n",
    "After completing all the tasks and before submitting: \n",
    "* Restart you kernel by clicking 'Restart & Run all'\n",
    "* Fix any errors resulting from the first step.\n",
    "* Repeat the first two steps until no errors are encountered. "
   ]
  }
 ],
 "metadata": {
  "kernelspec": {
   "display_name": "base",
   "language": "python",
   "name": "python3"
  },
  "language_info": {
   "codemirror_mode": {
    "name": "ipython",
    "version": 3
   },
   "file_extension": ".py",
   "mimetype": "text/x-python",
   "name": "python",
   "nbconvert_exporter": "python",
   "pygments_lexer": "ipython3",
   "version": "3.9.13"
  }
 },
 "nbformat": 4,
 "nbformat_minor": 4
}
