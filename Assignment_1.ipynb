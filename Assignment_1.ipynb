{
 "cells": [
  {
   "cell_type": "markdown",
   "metadata": {},
   "source": [
    "# Grade: /100 points\n",
    "\n",
    "# Assignment 01: Supervised learning, Linear models, and Loss functions\n",
    "## Name: Yun Kyaw, 251102171\n",
    "\n",
    "In this assignment, you're going to write your own methods to fit a linear model using either an OLS or LAD cost function.  \n",
    "\n",
    "## Data set \n",
    "\n",
    "For this assignment, we will examine some data representing possums in Australia and New Guinea. The data frame contains 46 observations on the following 6 variables:\n",
    "\n",
    "* sex: Sex, either m (male) or f (female).\n",
    "* age: Age in years.\n",
    "* headL: Head length, in mm.\n",
    "* skullW: Skull width, in mm.\n",
    "* totalL: Total length, in cm.\n",
    "* tailL: Tail length, in cm.\n",
    "\n",
    "## Follow These Steps Before Submitting\n",
    "\n",
    "You may need to install packages as follows:\n",
    "\n",
    "`python -m pip install matplotlib numpy scipy pandas scikit-learn`\n",
    "\n",
    "Once you are finished, ensure to complete the following steps.\n",
    "\n",
    "1.  Restart your kernel by clicking 'Kernel' > 'Restart & Run All'.\n",
    "\n",
    "2.  Fix any errors which result from this.\n",
    "\n",
    "3.  Repeat steps 1. and 2. until your notebook runs without errors.\n",
    "\n",
    "4.  Submit your completed notebook to OWL by the deadline.\n",
    "\n",
    "\n",
    "## Preliminaries"
   ]
  },
  {
   "cell_type": "code",
   "execution_count": 123,
   "metadata": {},
   "outputs": [],
   "source": [
    "# Import all the necessary packages: \n",
    "import matplotlib.pyplot as plt \n",
    "import numpy as np\n",
    "import pandas as pd\n",
    "import scipy.stats as ss \n",
    "import scipy.optimize as so\n",
    "from sklearn import linear_model\n",
    "\n",
    "%matplotlib inline"
   ]
  },
  {
   "cell_type": "markdown",
   "metadata": {},
   "source": [
    "\n",
    "## Part 1\n",
    "### Question 1.1:  /10 points\n",
    "\n",
    "\n",
    "Read in the `possum.csv` file as a `pandas.DataFrame`.  Investigate the relationship between the possum's age and its tail length by plotting a scatter plot of the `age` and `tailL` columns. Add an `alpha`(transparency of the plotted dots) in case some data are overlapping. "
   ]
  },
  {
   "cell_type": "code",
   "execution_count": 124,
   "metadata": {},
   "outputs": [],
   "source": [
    "# Read in the data with pandas\n",
    "possum_data = pd.read_csv(\"possum.csv\")"
   ]
  },
  {
   "cell_type": "code",
   "execution_count": 125,
   "metadata": {},
   "outputs": [
    {
     "data": {
      "text/plain": [
       "Text(0, 0.5, 'Tail Length')"
      ]
     },
     "execution_count": 125,
     "metadata": {},
     "output_type": "execute_result"
    },
    {
     "data": {
      "image/png": "[encoded data removed]",
      "text/plain": [
       "<Figure size 640x480 with 1 Axes>"
      ]
     },
     "metadata": {},
     "output_type": "display_data"
    }
   ],
   "source": [
    "# Make the scatter plot (don't forget the axis labels)\n",
    "plt.scatter(x = possum_data['age'], y = possum_data['tailL'], alpha = 0.5)\n",
    "plt.title(\"Age vs Tail Length\")\n",
    "plt.xlabel(\"Age\")\n",
    "plt.ylabel(\"Tail Length\")"
   ]
  },
  {
   "cell_type": "markdown",
   "metadata": {},
   "source": [
    "### Question 1.2: /5 point\n",
    "\n",
    "Recall that the linear model, we obtain predictions by computing \n",
    "\n",
    "$$ \\hat{\\mathbf{y}} = \\mathbf{X} \\hat{\\beta} $$\n",
    "\n",
    "Here, $\\mathbf{X}$ is a design matrix which includes a column of ones, $\\hat{\\beta}$ are coefficients, and $\\hat{\\mathbf{y}}$ are outcomes.  Write a function `linearModelPredict` to compute linear model predictions given data and a coefficient vector.  The function should take as it's arguments a 1d-array of coefficients `b` and the design matrix `X` as a 2d-array and return linear model predictions `yp`.\n",
    "\n",
    "Test the function by setting \n",
    "\n",
    "```\n",
    "X = np.array([[1,0],[1,-1],[1,2]])\n",
    "b = np.array([0.1,0.3])\n",
    "```\n",
    "and call your function with these values! \n",
    "\n",
    "Report $\\hat{\\mathbf{y}}$. \n",
    "What is the dimensionality of the numpy-array that you get back? \n",
    "\n",
    "Hint:  Read the documentation for `np.dot` or the `@` operator in `numpy`."
   ]
  },
  {
   "cell_type": "code",
   "execution_count": 126,
   "metadata": {},
   "outputs": [],
   "source": [
    "def linearModelPredict(b,X):\n",
    "    y_pred = X@b\n",
    "    return y_pred"
   ]
  },
  {
   "cell_type": "code",
   "execution_count": 127,
   "metadata": {},
   "outputs": [
    {
     "name": "stdout",
     "output_type": "stream",
     "text": [
      "[ 0.1 -0.2  0.7]\n"
     ]
    }
   ],
   "source": [
    "# testing linearModelPredict\n",
    "X = np.array([[1,0], [1, -1], [1, 2]])\n",
    "b = np.array([0.1, 0.3])\n",
    "\n",
    "y_pred = linearModelPredict(b, X)\n",
    "print(y_pred)"
   ]
  },
  {
   "cell_type": "code",
   "execution_count": 128,
   "metadata": {},
   "outputs": [
    {
     "name": "stdout",
     "output_type": "stream",
     "text": [
      "[[ 0.1]\n",
      " [-0.2]\n",
      " [ 0.7]]\n"
     ]
    }
   ],
   "source": [
    "# testing when b is a 2d-array\n",
    "X = np.array([[1,0], [1, -1], [1, 2]])\n",
    "b1 = np.array([[0.1, 0.3]]).T\n",
    "\n",
    "y_pred1 = linearModelPredict(b1, X)\n",
    "print(y_pred1)"
   ]
  },
  {
   "cell_type": "markdown",
   "metadata": {},
   "source": [
    "**Answer:** Here, we predict $\\hat{y}$ when $X$ = 0 to be 0.1, when $X$ = -1 to be -0.2, and when when $X$ = 2 to be 0.7. Additionally, we find that if $\\beta$ is a 2d-array, the resulting $\\hat{y}$ will produce the same numerical variables, though the result is also a 2d-array."
   ]
  },
  {
   "cell_type": "markdown",
   "metadata": {},
   "source": [
    "### Question 1.3: /15 points\n",
    "\n",
    "Write a function `linearModelLossRSS` which computes and returns the loss function for an OLS model parameterized by $\\beta$, as well as the gradient of the loss.  The function should take as its first argument a 1d-array `beta` of coefficients for the linear model, as its second argument the design matrix `X` as a 2d-array, and as its third argument a 1d-array `y` of observed outcomes.\n",
    "\n",
    "Test the function with the values \n",
    "\n",
    "```\n",
    "X = np.array([[1,0],[1,-1],[1,2]])\n",
    "b = np.array([0.1,0.3])\n",
    "y = np.array([0,0.4,2]) \n",
    "```\n",
    "\n",
    "Report the loss and the gradient. "
   ]
  },
  {
   "cell_type": "code",
   "execution_count": 129,
   "metadata": {},
   "outputs": [],
   "source": [
    "def linearModelLossRSS(b,X,y):\n",
    "    # model predictions\n",
    "    y_pred = linearModelPredict(b,X)\n",
    "    \n",
    "    # getting the residuals\n",
    "    res = y - y_pred\n",
    "    \n",
    "    # getting the residuals sums of squares\n",
    "    residual_sum_of_squares = (np.sum(np.square(res)))\n",
    "    \n",
    "    # solving gradient\n",
    "    gradient = -2 * X.T@(res)\n",
    "    \n",
    "    return (residual_sum_of_squares, gradient)"
   ]
  },
  {
   "cell_type": "code",
   "execution_count": 130,
   "metadata": {},
   "outputs": [
    {
     "name": "stdout",
     "output_type": "stream",
     "text": [
      "(2.06, array([-3.6, -4. ]))\n"
     ]
    }
   ],
   "source": [
    "# testing the function\n",
    "X = np.array([[1,0],[1,-1],[1,2]])\n",
    "b = np.array([0.1,0.3])\n",
    "y = np.array([0,0.4,2]) \n",
    "\n",
    "linModLRSSans = linearModelLossRSS(b,X,y)\n",
    "print(linModLRSSans)"
   ]
  },
  {
   "cell_type": "markdown",
   "metadata": {},
   "source": [
    "**Answer:** Thus, we find that we need to decrease the value of the parameter as the residual sum of squares is positive. Additionally, we find our loss is 2.06, and the gradient is [-3.6, -4]"
   ]
  },
  {
   "cell_type": "markdown",
   "metadata": {},
   "source": [
    "### Question 1.4:  /15 points. \n",
    "\n",
    "Now that you've implemented a loss function in question 1.3, it is now time to minimize it!\n",
    "\n",
    "Write a function `linearModelFit` to fit a linear model.  The function should take as its first argument the design matrix `X` as a 2d-array, as its second argument a 1d-array `y` of outcomes, and as its third argument a function  `lossfcn` which returns as a tuple the value of the loss, as well as the gradient of the loss. As a result, it should return the estimated betas and the R2. \n",
    "\n",
    "Test the function with the values: \n",
    "```\n",
    "X = np.array([[1,0],[1,-1],[1,2]])\n",
    "y = np.array([0,0.4,2]) \n",
    "```\n"
   ]
  },
  {
   "cell_type": "code",
   "execution_count": 131,
   "metadata": {},
   "outputs": [],
   "source": [
    "def linearModelFit(X,y,lossfcn = linearModelLossRSS):\n",
    "    # setting starting values\n",
    "    bstart = [0,0]\n",
    "\n",
    "    # calling optimizer\n",
    "    opt_result = so.minimize(lossfcn, bstart, args = (X, y), jac = True)\n",
    "    \n",
    "    estimated_betas = opt_result.x\n",
    "    \n",
    "    # calculating R2\n",
    "    y_pred = linearModelPredict(estimated_betas, X)\n",
    "    \n",
    "    y_bar = sum(y)/len(y)\n",
    "\n",
    "    RSS = (np.sum(np.square(y - y_pred)))\n",
    "\n",
    "    TSS = (np.sum(np.square(y - y_bar)))\n",
    "    \n",
    "    R2 = 1 - (RSS/TSS)\n",
    "\n",
    "    return (estimated_betas,R2)"
   ]
  },
  {
   "cell_type": "code",
   "execution_count": 132,
   "metadata": {},
   "outputs": [
    {
     "name": "stdout",
     "output_type": "stream",
     "text": [
      "(array([0.6, 0.6]), 0.75)\n"
     ]
    }
   ],
   "source": [
    "# testing linearModelFit\n",
    "test_fit = linearModelFit(X,y)\n",
    "print(test_fit)"
   ]
  },
  {
   "cell_type": "markdown",
   "metadata": {},
   "source": [
    "**Answer:** Thus, the best parameters for both $\\hat{\\beta}_0$, and $\\hat{\\beta}_1$ are 0.6, and the fitted R2 is 0.75, which suggests that the model is relatively good at predicting y values for the dataset."
   ]
  },
  {
   "cell_type": "markdown",
   "metadata": {},
   "source": [
    "### Question 1.5: /15 points\n",
    "\n",
    "Use the above functions to fit your model to the possum data. Then use your model and the fitted parameters to make predictions along a grid of equally spaced possum ages.  \n",
    "\n",
    "Plot the data and add a line for the predicted values. You can get these by generating a new X-matrix with equally spaced ages (using for example np.linspace). Also report the R2 value for the fit. You can do this by either printing out the R2 of the fit or putting it on your plot via the `annotate` function in matplotlib."
   ]
  },
  {
   "cell_type": "code",
   "execution_count": 133,
   "metadata": {},
   "outputs": [],
   "source": [
    "# Making the y and x partitions\n",
    "possum_y = possum_data[\"tailL\"]\n",
    "\n",
    "design_x = np.repeat(1, len(possum_data))\n",
    "possum_X = np.column_stack((design_x, possum_data[\"age\"]))"
   ]
  },
  {
   "cell_type": "code",
   "execution_count": 134,
   "metadata": {},
   "outputs": [
    {
     "name": "stdout",
     "output_type": "stream",
     "text": [
      "The R2 is: 0.22286587947604142\n"
     ]
    }
   ],
   "source": [
    "# Calling the fitting function, and reporting the R2\n",
    "possum_beta = linearModelFit(possum_X, possum_y)\n",
    "print(\"The R2 is:\", possum_beta[1])\n",
    "\n",
    "# Making predictions for Y\n",
    "spaced_x = np.linspace(1.0, 9.0, num = 9)\n",
    "possum_X_pred = np.column_stack((np.repeat(1, len(spaced_x)), spaced_x))\n",
    "possum_pred = linearModelPredict(possum_beta[0], possum_X_pred)"
   ]
  },
  {
   "cell_type": "code",
   "execution_count": 135,
   "metadata": {},
   "outputs": [],
   "source": [
    "# Creating a new matrix for the predicted points\n",
    "possum_pred_line = pd.DataFrame({'X':spaced_x, 'Y': possum_pred})"
   ]
  },
  {
   "cell_type": "code",
   "execution_count": 136,
   "metadata": {},
   "outputs": [
    {
     "data": {
      "text/plain": [
       "[<matplotlib.lines.Line2D at 0x7f98cded80a0>]"
      ]
     },
     "execution_count": 136,
     "metadata": {},
     "output_type": "execute_result"
    },
    {
     "data": {
      "image/png": "[encoded data removed]",
      "text/plain": [
       "<Figure size 640x480 with 1 Axes>"
      ]
     },
     "metadata": {},
     "output_type": "display_data"
    }
   ],
   "source": [
    "# Create the scatter plot (see question 1.1)\n",
    "plt.scatter(x = possum_data['age'], y = possum_data['tailL'], alpha = 0.5)\n",
    "plt.title(\"Age vs Tail Length\")\n",
    "plt.xlabel(\"Age\")\n",
    "plt.ylabel(\"Tail Length\")\n",
    "\n",
    "# Add the line to the graph\n",
    "plt.plot(possum_pred_line['X'], possum_pred_line['Y'], label = \"Predictions\")"
   ]
  },
  {
   "cell_type": "markdown",
   "metadata": {},
   "source": [
    "**Answer:** The R2 value is roughly 0.223"
   ]
  },
  {
   "cell_type": "markdown",
   "metadata": {},
   "source": [
    "## Part 2: LAD Regression\n",
    "\n",
    "### Question 2.1:  /15 points\n",
    "\n",
    "In the previous section, we worked with the squared loss.  Now, we'll implement a linear model with least absolute deviation loss.\n",
    "\n",
    "Write a function `linearModelLossLAD` which computes the least absolute deviation loss function for a linear model  parameterized by $\\beta$, as well as the gradient of the loss.  The function should take as its first argument a 1d-array `beta` of coefficients for the linear model, as its second argument the design matrix `X` as a 2d-array, and as its third argument a 1d-array `y` of observed outcomes.\n",
    "\n",
    "Test the function with the values \n",
    "\n",
    "```\n",
    "X = np.array([[1,0],[1,-1],[1,2]])\n",
    "b = np.array([0.1,0.3])\n",
    "y = np.array([0,0.4,2]) \n",
    "```\n",
    "\n",
    "Report the loss and the gradient. "
   ]
  },
  {
   "cell_type": "code",
   "execution_count": 137,
   "metadata": {},
   "outputs": [],
   "source": [
    "def linearModelLossLAD(b,X,y):\n",
    "    # Calculating the predicted values\n",
    "    y_pred = X@b\n",
    "\n",
    "    # getting the residuals\n",
    "    res = y - y_pred\n",
    "\n",
    "    # getting the loss\n",
    "    sum_abs_dev = np.sum(np.abs(res))\n",
    "\n",
    "    # getting the gradient\n",
    "    b0_grad = -np.sum(np.sign(res))\n",
    "    b1_grad = -np.sum(np.sign(res)@X)\n",
    "\n",
    "    grad = [b0_grad, b1_grad]\n",
    "\n",
    "    return (sum_abs_dev,grad)"
   ]
  },
  {
   "cell_type": "code",
   "execution_count": 138,
   "metadata": {},
   "outputs": [
    {
     "name": "stdout",
     "output_type": "stream",
     "text": [
      "(2.0, [-1.0, -2.0])\n"
     ]
    }
   ],
   "source": [
    "# testing the function\n",
    "X = np.array([[1,0],[1,-1],[1,2]])\n",
    "b = np.array([0.1,0.3])\n",
    "y = np.array([0,0.4,2]) \n",
    "\n",
    "test2 = linearModelLossLAD(b,X,y)\n",
    "print(test2)"
   ]
  },
  {
   "cell_type": "markdown",
   "metadata": {},
   "source": [
    "**Answer:** Here, the loss, as calculated by the sum of absolute deviations, is 2, and the gradient for $\\beta_0$ and $\\beta_1$ is [-1, -2], respectively"
   ]
  },
  {
   "cell_type": "markdown",
   "metadata": {},
   "source": [
    "### Question 2.2: /10 points\n",
    "\n",
    "\n",
    "Use the above functions to fit your LAD model. Use your model to make predictions along a grid of equally spaced possum ages.  Once fit, add the fitted line to the scatter plot as in question 1.5.  Also report the R2-value. "
   ]
  },
  {
   "cell_type": "code",
   "execution_count": 139,
   "metadata": {},
   "outputs": [
    {
     "name": "stdout",
     "output_type": "stream",
     "text": [
      "The R2 is: 0.1305997056530429\n"
     ]
    }
   ],
   "source": [
    "# Making the y and x partitions\n",
    "possum_y = possum_data[\"tailL\"]\n",
    "\n",
    "design_x = np.repeat(1, len(possum_data))\n",
    "possum_X = np.column_stack((design_x, possum_data[\"age\"]))\n",
    "\n",
    "# Fitting the LAD model\n",
    "possum_beta_lad = linearModelFit(possum_X, possum_y, linearModelLossLAD)\n",
    "print(\"The R2 is:\", possum_beta_lad[1])\n",
    "\n",
    "# Making predictions for Y\n",
    "possum_pred_lad = linearModelPredict(possum_beta_lad[0], possum_X_pred)\n",
    "\n",
    "# Creating a new matrix for the predicted points\n",
    "possum_pred_lad_line = pd.DataFrame({'X':spaced_x, 'Y': possum_pred_lad})"
   ]
  },
  {
   "cell_type": "code",
   "execution_count": 140,
   "metadata": {},
   "outputs": [
    {
     "data": {
      "text/plain": [
       "[<matplotlib.lines.Line2D at 0x7f98cdf68640>]"
      ]
     },
     "execution_count": 140,
     "metadata": {},
     "output_type": "execute_result"
    },
    {
     "data": {
      "image/png": "[encoded data removed]",
      "text/plain": [
       "<Figure size 640x480 with 1 Axes>"
      ]
     },
     "metadata": {},
     "output_type": "display_data"
    }
   ],
   "source": [
    "# Graphing the predictions\n",
    "plt.scatter(x = possum_data['age'], y = possum_data['tailL'], alpha = 0.5)\n",
    "plt.title(\"Age vs Tail Length\")\n",
    "plt.xlabel(\"Age\")\n",
    "plt.ylabel(\"Tail Length\")\n",
    "\n",
    "# Add the line to the graph\n",
    "plt.plot(possum_pred_lad_line['X'], possum_pred_lad_line['Y'], label = \"Predictions\")"
   ]
  },
  {
   "cell_type": "markdown",
   "metadata": {},
   "source": [
    "**Questions:** What is the difference in the fit obtained with an L1 as compared to the L2 cost function? Which one has a higher R2 value? Why?\\\n",
    "**Answer:** The R2 value of this model is 0.131, thus, we find that the R2 is lower in the LAD model. This suggests that using the OLS to determine the beta values is more beneficial, and can help us determine more accurate predictions for Y. This is because the OLS is more accurate at predicting the mean tail length at a given age, as observed  at age 6, in which OLS can more acurately predict the mean tail length, while LAD fails to. This may be due to the OLS model penalizing larger deviations more heavily, thus, the outlier affects the model more significantly than it does the LAD model."
   ]
  },
  {
   "cell_type": "markdown",
   "metadata": {},
   "source": [
    "### Question 2.3: /15 points\n",
    "\n",
    "Fit an OLS model to the possum data with the `linear_model` module from the `sklearn` package by using the `LinearRegression` class.  In no more than two sentences, comment on the rsquared values from `sklearn` and the rsquared values from your models. Are they similar?"
   ]
  },
  {
   "cell_type": "code",
   "execution_count": 141,
   "metadata": {},
   "outputs": [
    {
     "name": "stdout",
     "output_type": "stream",
     "text": [
      "The R2 value is: 0.22286587947604108\n"
     ]
    }
   ],
   "source": [
    "OLS_model = linear_model.LinearRegression()\n",
    "OLS_model.fit(possum_X, possum_y)\n",
    "\n",
    "R2_sklearn = OLS_model.score(possum_X, possum_y)\n",
    "print(\"The R2 value is:\", R2_sklearn)"
   ]
  },
  {
   "cell_type": "markdown",
   "metadata": {},
   "source": [
    "**Answer:** Here, we find the R2 value from sklearn to be 0.223, which is identical to the R2 value we obtained from the OLS model. Thus, these two models perform similarly well, while the LAD performs the poorest, with an R2 value of roughly 0.131."
   ]
  }
 ],
 "metadata": {
  "kernelspec": {
   "display_name": "base",
   "language": "python",
   "name": "python3"
  },
  "language_info": {
   "codemirror_mode": {
    "name": "ipython",
    "version": 3
   },
   "file_extension": ".py",
   "mimetype": "text/x-python",
   "name": "python",
   "nbconvert_exporter": "python",
   "pygments_lexer": "ipython3",
   "version": "3.9.13"
  }
 },
 "nbformat": 4,
 "nbformat_minor": 4
}
